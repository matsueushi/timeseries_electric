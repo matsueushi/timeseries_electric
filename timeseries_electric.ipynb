{
 "cells": [
  {
   "cell_type": "code",
   "execution_count": 1,
   "metadata": {},
   "outputs": [],
   "source": [
    "using DataFrames\n",
    "using Dates\n",
    "using DotEnv\n",
    "using HTTP\n",
    "using JSON\n",
    "using Plots\n",
    "using Printf"
   ]
  },
  {
   "cell_type": "code",
   "execution_count": 2,
   "metadata": {},
   "outputs": [],
   "source": [
    "DotEnv.config();"
   ]
  },
  {
   "cell_type": "code",
   "execution_count": 3,
   "metadata": {},
   "outputs": [
    {
     "data": {
      "text/plain": [
       "HTTP.Messages.Response:\n",
       "\"\"\"\n",
       "HTTP/1.1 200 OK\r\n",
       "Content-Type: application/json; charset=UTF-8\r\n",
       "Server: Apache\r\n",
       "Last-Modified: Fri, 15 Mar 2019 13:27:05 GMT\r\n",
       "Expires: Wed, 27 Mar 2019 04:15:56 GMT\r\n",
       "x-rate-limit-limit: 120\r\n",
       "x-rate-limit-remaining: 120\r\n",
       "Date: Wed, 27 Mar 2019 04:15:56 GMT\r\n",
       "Transfer-Encoding: chunked\r\n",
       "Connection: keep-alive, Transfer-Encoding\r\n",
       "\r\n",
       "{\"realtime_start\":\"2019-03-26\",\"realtime_end\":\"2019-03-26\",\"observation_start\":\"1600-01-01\",\"observation_end\":\"9999-12-31\",\"units\":\"lin\",\"output_type\":1,\"file_type\":\"json\",\"order_by\":\"observation_date\",\"sort_order\":\"asc\",\"count\":962,\"offset\":0,\"limit\":100000,\"observations\":[{\"realtime_start\":\"2019-03-26\",\"realtime_end\":\"2019-03-26\",\"date\":\"1939-01-01\",\"value\":\"3.3842\"},{\"realtime_start\":\"2019-03-26\",\"realtime_end\":\"2019-03-26\",\"date\":\"1939-02-01\",\"value\":\"3.4100\"},{\"realtime_start\":\"2019-03-26\",\"realtime_end\":\"2019-03-26\",\"date\":\"1939-03-01\",\"value\":\"3.4875\"},{\"realtime_start\":\"2019-03-26\",\"realtime_end\":\"2019-03-26\",\"date\":\"1939-04-01\",\"value\":\"3.5133\"},{\"realtime_start\":\"2019-03-26\",\"realtime_end\":\"2019-03-26\",\"date\":\"1939-05-01\",\"value\":\"3.5133\"},{\"realtime_start\":\"2019-03-26\",\"realtime_end\":\"2019-03-26\",\"date\":\"1939-06-01\",\"value\":\"3.5650\"},{\"realtime_start\":\"2019-03-26\",\"realtime_end\":\"2019-03-26\",\"date\":\"1939-07-01\",\"value\":\"3.5650\"},{\"realtime_start\":\"2019-03-26\",\"realtime_end\":\n",
       "⋮\n",
       "94522-byte body\n",
       "\"\"\""
      ]
     },
     "execution_count": 3,
     "metadata": {},
     "output_type": "execute_result"
    }
   ],
   "source": [
    "timeseries_url = @sprintf(\n",
    "    \"https://api.stlouisfed.org/fred/series/observations?series_id=%s&api_key=%s&file_type=json\",\n",
    "    \"IPG2211A2N\",\n",
    "    ENV[\"FRED_API_KEY\"])\n",
    "r = HTTP.get(timeseries_url)"
   ]
  },
  {
   "cell_type": "code",
   "execution_count": 4,
   "metadata": {},
   "outputs": [
    {
     "data": {
      "text/plain": [
       "962-element Array{Any,1}:\n",
       " Dict{String,Any}(\"realtime_start\"=>\"2019-03-26\",\"realtime_end\"=>\"2019-03-26\",\"date\"=>\"1939-01-01\",\"value\"=>\"3.3842\")  \n",
       " Dict{String,Any}(\"realtime_start\"=>\"2019-03-26\",\"realtime_end\"=>\"2019-03-26\",\"date\"=>\"1939-02-01\",\"value\"=>\"3.4100\")  \n",
       " Dict{String,Any}(\"realtime_start\"=>\"2019-03-26\",\"realtime_end\"=>\"2019-03-26\",\"date\"=>\"1939-03-01\",\"value\"=>\"3.4875\")  \n",
       " Dict{String,Any}(\"realtime_start\"=>\"2019-03-26\",\"realtime_end\"=>\"2019-03-26\",\"date\"=>\"1939-04-01\",\"value\"=>\"3.5133\")  \n",
       " Dict{String,Any}(\"realtime_start\"=>\"2019-03-26\",\"realtime_end\"=>\"2019-03-26\",\"date\"=>\"1939-05-01\",\"value\"=>\"3.5133\")  \n",
       " Dict{String,Any}(\"realtime_start\"=>\"2019-03-26\",\"realtime_end\"=>\"2019-03-26\",\"date\"=>\"1939-06-01\",\"value\"=>\"3.5650\")  \n",
       " Dict{String,Any}(\"realtime_start\"=>\"2019-03-26\",\"realtime_end\"=>\"2019-03-26\",\"date\"=>\"1939-07-01\",\"value\"=>\"3.5650\")  \n",
       " Dict{String,Any}(\"realtime_start\"=>\"2019-03-26\",\"realtime_end\"=>\"2019-03-26\",\"date\"=>\"1939-08-01\",\"value\"=>\"3.6167\")  \n",
       " Dict{String,Any}(\"realtime_start\"=>\"2019-03-26\",\"realtime_end\"=>\"2019-03-26\",\"date\"=>\"1939-09-01\",\"value\"=>\"3.7200\")  \n",
       " Dict{String,Any}(\"realtime_start\"=>\"2019-03-26\",\"realtime_end\"=>\"2019-03-26\",\"date\"=>\"1939-10-01\",\"value\"=>\"3.7200\")  \n",
       " Dict{String,Any}(\"realtime_start\"=>\"2019-03-26\",\"realtime_end\"=>\"2019-03-26\",\"date\"=>\"1939-11-01\",\"value\"=>\"3.7458\")  \n",
       " Dict{String,Any}(\"realtime_start\"=>\"2019-03-26\",\"realtime_end\"=>\"2019-03-26\",\"date\"=>\"1939-12-01\",\"value\"=>\"3.7458\")  \n",
       " Dict{String,Any}(\"realtime_start\"=>\"2019-03-26\",\"realtime_end\"=>\"2019-03-26\",\"date\"=>\"1940-01-01\",\"value\"=>\"3.7717\")  \n",
       " ⋮                                                                                                                     \n",
       " Dict{String,Any}(\"realtime_start\"=>\"2019-03-26\",\"realtime_end\"=>\"2019-03-26\",\"date\"=>\"2018-03-01\",\"value\"=>\"103.3912\")\n",
       " Dict{String,Any}(\"realtime_start\"=>\"2019-03-26\",\"realtime_end\"=>\"2019-03-26\",\"date\"=>\"2018-04-01\",\"value\"=>\"93.1969\") \n",
       " Dict{String,Any}(\"realtime_start\"=>\"2019-03-26\",\"realtime_end\"=>\"2019-03-26\",\"date\"=>\"2018-05-01\",\"value\"=>\"93.3137\") \n",
       " Dict{String,Any}(\"realtime_start\"=>\"2019-03-26\",\"realtime_end\"=>\"2019-03-26\",\"date\"=>\"2018-06-01\",\"value\"=>\"103.6679\")\n",
       " Dict{String,Any}(\"realtime_start\"=>\"2019-03-26\",\"realtime_end\"=>\"2019-03-26\",\"date\"=>\"2018-07-01\",\"value\"=>\"113.7848\")\n",
       " Dict{String,Any}(\"realtime_start\"=>\"2019-03-26\",\"realtime_end\"=>\"2019-03-26\",\"date\"=>\"2018-08-01\",\"value\"=>\"113.8726\")\n",
       " Dict{String,Any}(\"realtime_start\"=>\"2019-03-26\",\"realtime_end\"=>\"2019-03-26\",\"date\"=>\"2018-09-01\",\"value\"=>\"101.8622\")\n",
       " Dict{String,Any}(\"realtime_start\"=>\"2019-03-26\",\"realtime_end\"=>\"2019-03-26\",\"date\"=>\"2018-10-01\",\"value\"=>\"95.2701\") \n",
       " Dict{String,Any}(\"realtime_start\"=>\"2019-03-26\",\"realtime_end\"=>\"2019-03-26\",\"date\"=>\"2018-11-01\",\"value\"=>\"103.3201\")\n",
       " Dict{String,Any}(\"realtime_start\"=>\"2019-03-26\",\"realtime_end\"=>\"2019-03-26\",\"date\"=>\"2018-12-01\",\"value\"=>\"112.7514\")\n",
       " Dict{String,Any}(\"realtime_start\"=>\"2019-03-26\",\"realtime_end\"=>\"2019-03-26\",\"date\"=>\"2019-01-01\",\"value\"=>\"122.6572\")\n",
       " Dict{String,Any}(\"realtime_start\"=>\"2019-03-26\",\"realtime_end\"=>\"2019-03-26\",\"date\"=>\"2019-02-01\",\"value\"=>\"118.3609\")"
      ]
     },
     "execution_count": 4,
     "metadata": {},
     "output_type": "execute_result"
    }
   ],
   "source": [
    "obs_vec = JSON.parse(IOBuffer(r.body))[\"observations\"]"
   ]
  },
  {
   "cell_type": "code",
   "execution_count": 5,
   "metadata": {},
   "outputs": [
    {
     "data": {
      "text/html": [
       "<table class=\"data-frame\"><thead><tr><th></th><th>realtime_start</th><th>realtime_end</th><th>date</th><th>value</th></tr><tr><th></th><th>String</th><th>String</th><th>String</th><th>String</th></tr></thead><tbody><p>962 rows × 4 columns</p><tr><th>1</th><td>2019-03-26</td><td>2019-03-26</td><td>1939-01-01</td><td>3.3842</td></tr><tr><th>2</th><td>2019-03-26</td><td>2019-03-26</td><td>1939-02-01</td><td>3.4100</td></tr><tr><th>3</th><td>2019-03-26</td><td>2019-03-26</td><td>1939-03-01</td><td>3.4875</td></tr><tr><th>4</th><td>2019-03-26</td><td>2019-03-26</td><td>1939-04-01</td><td>3.5133</td></tr><tr><th>5</th><td>2019-03-26</td><td>2019-03-26</td><td>1939-05-01</td><td>3.5133</td></tr><tr><th>6</th><td>2019-03-26</td><td>2019-03-26</td><td>1939-06-01</td><td>3.5650</td></tr><tr><th>7</th><td>2019-03-26</td><td>2019-03-26</td><td>1939-07-01</td><td>3.5650</td></tr><tr><th>8</th><td>2019-03-26</td><td>2019-03-26</td><td>1939-08-01</td><td>3.6167</td></tr><tr><th>9</th><td>2019-03-26</td><td>2019-03-26</td><td>1939-09-01</td><td>3.7200</td></tr><tr><th>10</th><td>2019-03-26</td><td>2019-03-26</td><td>1939-10-01</td><td>3.7200</td></tr><tr><th>11</th><td>2019-03-26</td><td>2019-03-26</td><td>1939-11-01</td><td>3.7458</td></tr><tr><th>12</th><td>2019-03-26</td><td>2019-03-26</td><td>1939-12-01</td><td>3.7458</td></tr><tr><th>13</th><td>2019-03-26</td><td>2019-03-26</td><td>1940-01-01</td><td>3.7717</td></tr><tr><th>14</th><td>2019-03-26</td><td>2019-03-26</td><td>1940-02-01</td><td>3.8233</td></tr><tr><th>15</th><td>2019-03-26</td><td>2019-03-26</td><td>1940-03-01</td><td>3.8492</td></tr><tr><th>16</th><td>2019-03-26</td><td>2019-03-26</td><td>1940-04-01</td><td>3.8492</td></tr><tr><th>17</th><td>2019-03-26</td><td>2019-03-26</td><td>1940-05-01</td><td>3.8750</td></tr><tr><th>18</th><td>2019-03-26</td><td>2019-03-26</td><td>1940-06-01</td><td>3.9267</td></tr><tr><th>19</th><td>2019-03-26</td><td>2019-03-26</td><td>1940-07-01</td><td>3.9267</td></tr><tr><th>20</th><td>2019-03-26</td><td>2019-03-26</td><td>1940-08-01</td><td>3.9783</td></tr><tr><th>21</th><td>2019-03-26</td><td>2019-03-26</td><td>1940-09-01</td><td>4.0300</td></tr><tr><th>22</th><td>2019-03-26</td><td>2019-03-26</td><td>1940-10-01</td><td>4.0558</td></tr><tr><th>23</th><td>2019-03-26</td><td>2019-03-26</td><td>1940-11-01</td><td>4.1592</td></tr><tr><th>24</th><td>2019-03-26</td><td>2019-03-26</td><td>1940-12-01</td><td>4.1592</td></tr><tr><th>25</th><td>2019-03-26</td><td>2019-03-26</td><td>1941-01-01</td><td>4.1850</td></tr><tr><th>26</th><td>2019-03-26</td><td>2019-03-26</td><td>1941-02-01</td><td>4.2367</td></tr><tr><th>27</th><td>2019-03-26</td><td>2019-03-26</td><td>1941-03-01</td><td>4.2883</td></tr><tr><th>28</th><td>2019-03-26</td><td>2019-03-26</td><td>1941-04-01</td><td>4.3400</td></tr><tr><th>29</th><td>2019-03-26</td><td>2019-03-26</td><td>1941-05-01</td><td>4.3658</td></tr><tr><th>30</th><td>2019-03-26</td><td>2019-03-26</td><td>1941-06-01</td><td>4.4433</td></tr><tr><th>&vellip;</th><td>&vellip;</td><td>&vellip;</td><td>&vellip;</td><td>&vellip;</td></tr></tbody></table>"
      ],
      "text/latex": [
       "\\begin{tabular}{r|cccc}\n",
       "\t& realtime\\_start & realtime\\_end & date & value\\\\\n",
       "\t\\hline\n",
       "\t& String & String & String & String\\\\\n",
       "\t\\hline\n",
       "\t1 & 2019-03-26 & 2019-03-26 & 1939-01-01 & 3.3842 \\\\\n",
       "\t2 & 2019-03-26 & 2019-03-26 & 1939-02-01 & 3.4100 \\\\\n",
       "\t3 & 2019-03-26 & 2019-03-26 & 1939-03-01 & 3.4875 \\\\\n",
       "\t4 & 2019-03-26 & 2019-03-26 & 1939-04-01 & 3.5133 \\\\\n",
       "\t5 & 2019-03-26 & 2019-03-26 & 1939-05-01 & 3.5133 \\\\\n",
       "\t6 & 2019-03-26 & 2019-03-26 & 1939-06-01 & 3.5650 \\\\\n",
       "\t7 & 2019-03-26 & 2019-03-26 & 1939-07-01 & 3.5650 \\\\\n",
       "\t8 & 2019-03-26 & 2019-03-26 & 1939-08-01 & 3.6167 \\\\\n",
       "\t9 & 2019-03-26 & 2019-03-26 & 1939-09-01 & 3.7200 \\\\\n",
       "\t10 & 2019-03-26 & 2019-03-26 & 1939-10-01 & 3.7200 \\\\\n",
       "\t11 & 2019-03-26 & 2019-03-26 & 1939-11-01 & 3.7458 \\\\\n",
       "\t12 & 2019-03-26 & 2019-03-26 & 1939-12-01 & 3.7458 \\\\\n",
       "\t13 & 2019-03-26 & 2019-03-26 & 1940-01-01 & 3.7717 \\\\\n",
       "\t14 & 2019-03-26 & 2019-03-26 & 1940-02-01 & 3.8233 \\\\\n",
       "\t15 & 2019-03-26 & 2019-03-26 & 1940-03-01 & 3.8492 \\\\\n",
       "\t16 & 2019-03-26 & 2019-03-26 & 1940-04-01 & 3.8492 \\\\\n",
       "\t17 & 2019-03-26 & 2019-03-26 & 1940-05-01 & 3.8750 \\\\\n",
       "\t18 & 2019-03-26 & 2019-03-26 & 1940-06-01 & 3.9267 \\\\\n",
       "\t19 & 2019-03-26 & 2019-03-26 & 1940-07-01 & 3.9267 \\\\\n",
       "\t20 & 2019-03-26 & 2019-03-26 & 1940-08-01 & 3.9783 \\\\\n",
       "\t21 & 2019-03-26 & 2019-03-26 & 1940-09-01 & 4.0300 \\\\\n",
       "\t22 & 2019-03-26 & 2019-03-26 & 1940-10-01 & 4.0558 \\\\\n",
       "\t23 & 2019-03-26 & 2019-03-26 & 1940-11-01 & 4.1592 \\\\\n",
       "\t24 & 2019-03-26 & 2019-03-26 & 1940-12-01 & 4.1592 \\\\\n",
       "\t25 & 2019-03-26 & 2019-03-26 & 1941-01-01 & 4.1850 \\\\\n",
       "\t26 & 2019-03-26 & 2019-03-26 & 1941-02-01 & 4.2367 \\\\\n",
       "\t27 & 2019-03-26 & 2019-03-26 & 1941-03-01 & 4.2883 \\\\\n",
       "\t28 & 2019-03-26 & 2019-03-26 & 1941-04-01 & 4.3400 \\\\\n",
       "\t29 & 2019-03-26 & 2019-03-26 & 1941-05-01 & 4.3658 \\\\\n",
       "\t30 & 2019-03-26 & 2019-03-26 & 1941-06-01 & 4.4433 \\\\\n",
       "\t$\\dots$ & $\\dots$ & $\\dots$ & $\\dots$ & $\\dots$ \\\\\n",
       "\\end{tabular}\n"
      ],
      "text/plain": [
       "962×4 DataFrame\n",
       "│ Row │ realtime_start │ realtime_end │ date       │ value    │\n",
       "│     │ \u001b[90mString\u001b[39m         │ \u001b[90mString\u001b[39m       │ \u001b[90mString\u001b[39m     │ \u001b[90mString\u001b[39m   │\n",
       "├─────┼────────────────┼──────────────┼────────────┼──────────┤\n",
       "│ 1   │ 2019-03-26     │ 2019-03-26   │ 1939-01-01 │ 3.3842   │\n",
       "│ 2   │ 2019-03-26     │ 2019-03-26   │ 1939-02-01 │ 3.4100   │\n",
       "│ 3   │ 2019-03-26     │ 2019-03-26   │ 1939-03-01 │ 3.4875   │\n",
       "│ 4   │ 2019-03-26     │ 2019-03-26   │ 1939-04-01 │ 3.5133   │\n",
       "│ 5   │ 2019-03-26     │ 2019-03-26   │ 1939-05-01 │ 3.5133   │\n",
       "│ 6   │ 2019-03-26     │ 2019-03-26   │ 1939-06-01 │ 3.5650   │\n",
       "│ 7   │ 2019-03-26     │ 2019-03-26   │ 1939-07-01 │ 3.5650   │\n",
       "│ 8   │ 2019-03-26     │ 2019-03-26   │ 1939-08-01 │ 3.6167   │\n",
       "│ 9   │ 2019-03-26     │ 2019-03-26   │ 1939-09-01 │ 3.7200   │\n",
       "│ 10  │ 2019-03-26     │ 2019-03-26   │ 1939-10-01 │ 3.7200   │\n",
       "⋮\n",
       "│ 952 │ 2019-03-26     │ 2019-03-26   │ 2018-04-01 │ 93.1969  │\n",
       "│ 953 │ 2019-03-26     │ 2019-03-26   │ 2018-05-01 │ 93.3137  │\n",
       "│ 954 │ 2019-03-26     │ 2019-03-26   │ 2018-06-01 │ 103.6679 │\n",
       "│ 955 │ 2019-03-26     │ 2019-03-26   │ 2018-07-01 │ 113.7848 │\n",
       "│ 956 │ 2019-03-26     │ 2019-03-26   │ 2018-08-01 │ 113.8726 │\n",
       "│ 957 │ 2019-03-26     │ 2019-03-26   │ 2018-09-01 │ 101.8622 │\n",
       "│ 958 │ 2019-03-26     │ 2019-03-26   │ 2018-10-01 │ 95.2701  │\n",
       "│ 959 │ 2019-03-26     │ 2019-03-26   │ 2018-11-01 │ 103.3201 │\n",
       "│ 960 │ 2019-03-26     │ 2019-03-26   │ 2018-12-01 │ 112.7514 │\n",
       "│ 961 │ 2019-03-26     │ 2019-03-26   │ 2019-01-01 │ 122.6572 │\n",
       "│ 962 │ 2019-03-26     │ 2019-03-26   │ 2019-02-01 │ 118.3609 │"
      ]
     },
     "execution_count": 5,
     "metadata": {},
     "output_type": "execute_result"
    }
   ],
   "source": [
    "obs_df = DataFrame(permutedims(hcat(collect.(values.(obs_vec))...), (2, 1)), Symbol.(collect(keys(obs_vec[1]))))"
   ]
  },
  {
   "cell_type": "code",
   "execution_count": 6,
   "metadata": {},
   "outputs": [
    {
     "data": {
      "text/plain": [
       "962-element Array{Float64,1}:\n",
       "   3.3842\n",
       "   3.41  \n",
       "   3.4875\n",
       "   3.5133\n",
       "   3.5133\n",
       "   3.565 \n",
       "   3.565 \n",
       "   3.6167\n",
       "   3.72  \n",
       "   3.72  \n",
       "   3.7458\n",
       "   3.7458\n",
       "   3.7717\n",
       "   ⋮     \n",
       " 103.3912\n",
       "  93.1969\n",
       "  93.3137\n",
       " 103.6679\n",
       " 113.7848\n",
       " 113.8726\n",
       " 101.8622\n",
       "  95.2701\n",
       " 103.3201\n",
       " 112.7514\n",
       " 122.6572\n",
       " 118.3609"
      ]
     },
     "execution_count": 6,
     "metadata": {},
     "output_type": "execute_result"
    }
   ],
   "source": [
    "for x in [:realtime_start, :realtime_end, :date]\n",
    "    obs_df[x] = Date.(obs_df[x] ,\"y-m-d\")\n",
    "end\n",
    "obs_df[:value] = parse.(Float64, obs_df[:value])"
   ]
  },
  {
   "cell_type": "code",
   "execution_count": null,
   "metadata": {},
   "outputs": [],
   "source": [
    "plot(obs_df[:date], obs_df[:value],\n",
    "    size = [750, 400],\n",
    "    title = \"Industrial Production: Electric and gas utilities\",\n",
    "    ylabel = \"Index 2012=100\", \n",
    "    label = \"\")"
   ]
  },
  {
   "cell_type": "code",
   "execution_count": null,
   "metadata": {},
   "outputs": [],
   "source": []
  }
 ],
 "metadata": {
  "kernelspec": {
   "display_name": "Julia 1.1.0",
   "language": "julia",
   "name": "julia-1.1"
  },
  "language_info": {
   "file_extension": ".jl",
   "mimetype": "application/julia",
   "name": "julia",
   "version": "1.1.0"
  }
 },
 "nbformat": 4,
 "nbformat_minor": 2
}
